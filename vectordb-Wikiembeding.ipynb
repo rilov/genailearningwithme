{
 "cells": [
  {
   "cell_type": "code",
   "execution_count": 42,
   "id": "abb430bf",
   "metadata": {},
   "outputs": [],
   "source": [
    "\n",
    "#Install ChromaDB and Sentence Transformers if you haven't: \n",
    "#pip --upgrade chromadb sentence-transformers\n",
    "def split_text_into_chunks(text, words_per_chunk=1000):\n",
    "    words = text.split()\n",
    "    chunks = []\n",
    "    for i in range(0, len(words), words_per_chunk):\n",
    "        chunks.append(\" \".join(words[i:i+words_per_chunk]))\n",
    "    return chunks"
   ]
  },
  {
   "cell_type": "code",
   "execution_count": 56,
   "id": "8bcfc61a",
   "metadata": {
    "scrolled": false
   },
   "outputs": [],
   "source": [
    "# Example usage\n",
    "from bs4 import BeautifulSoup\n",
    "import requests\n",
    "def getdata():\n",
    "    # request web page\n",
    "    resp = requests.get(\"https://en.wikipedia.org/wiki/New_York_City\")\n",
    "    # get the response text. in this case it is HTML\n",
    "    html = resp.text\n",
    "    # parse the HTML\n",
    "    soup = BeautifulSoup(html, \"html.parser\")\n",
    "    # print the HTML as text\n",
    "    return split_text_into_chunks(soup.body.get_text().strip())"
   ]
  },
  {
   "cell_type": "code",
   "execution_count": 57,
   "id": "2bd6ab1f",
   "metadata": {},
   "outputs": [],
   "source": [
    "import chromadb\n",
    "from sentence_transformers import SentenceTransformer\n",
    "\n",
    "# Assuming libraries are installed:\n",
    "# pip install chromadb sentence-transformers\n",
    "\n",
    "# 1. Setup ChromaDB\n",
    "db = chromadb.Client()\n",
    "#collection = db.create_collection(\"mytextcontent1\")\n",
    "\n",
    "# 2. Hardcode Sentences\n",
    "#sentences = [\n",
    "#    \"The cat sat on the mat.\",\n",
    "#    \"The dog chased the ball.\",\n",
    "#    \"I love to read books.\",\n",
    "#    \"The ocean waves were beautiful.\"\n",
    "#]\n",
    "\n",
    "sentences=getdata()\n",
    "# 3. Get Embeddings\n",
    "model = SentenceTransformer('all-MiniLM-L6-v2')\n",
    "embeddings = model.encode(sentences)\n",
    "\n",
    "# 4. Store in ChromaDB (Corrected)\n",
    "ids = [str(i) for i in range(len(sentences))]  # Generate IDs for each sentence\n",
    "metadatas = [{\"sentence\": sentence} for sentence in sentences]  # Metadata for each sentence\n",
    "collection.add(ids=ids, embeddings=embeddings, metadatas=metadatas)  # Correctly call the add method"
   ]
  },
  {
   "cell_type": "code",
   "execution_count": 59,
   "id": "7604bb7f",
   "metadata": {
    "scrolled": false
   },
   "outputs": [
    {
     "data": {
      "text/plain": [
       "{'ids': [['21', '12']],\n",
       " 'distances': [[0.9418510794639587, 1.4077774286270142]],\n",
       " 'metadatas': [[{'sentence': 'become the \"emigrant passengers\" destined to this country. ^ a b McPherson, James M.; Hogue, James Keith (2001). Ordeal by Fire: The Civil War and Reconstruction. McGraw-Hill Education. p. 399. ISBN 978-0-07-743035-1. ^ Cook, Adrian (1974). The Armies of the Streets: The New York City Draft Riots of 1863. University Press of Kentucky. pp. 193–195. ISBN 9780813162553. ^ a b Statue of Liberty, UNESCO. Accessed December 28, 2023. \"Inaugurated in 1886, the sculpture stands at the entrance to New York Harbour and has welcomed millions of immigrants to the United States ever since.\" ^ The Immigrant\\'s Statue, Statue of Liberty National Monument. Accessed December 28, 2023. \"Between 1886 and 1924, almost 14 million immigrants entered the United States through New York. The Statue of Liberty was a reassuring sign that they had arrived in the land of their dreams.\" ^ \"The 100 Year Anniversary of the Consolidation of the 5 Boroughs into New York City\". NYC100 Centennial Celebration. Archived from the original on October 11, 2007. Retrieved October 28, 2010. ^ Cudahy, Brian J. (2004). The New York Subway: Its Construction and Equipment : Interborough Rapid Transit, 1904. Fordham University Press. p. 2. ISBN 978-0-8232-2401-2. ^ Blake, Angela M. (2009). How New York Became American, 1890–1924. Johns Hopkins University Press. pp. 63–66. ISBN 978-0-8018-8874-8. ^ Sheard, Bradley (1998). Lost Voyages: Two Centuries of Shipwrecks in the Approaches to New York. Aqua Quest Publications, Inc. p. 67. ISBN 978-1-881652-17-5. ^ \"The 1911 Triangle Factory Fire\". Kheel Center, Cornell University. Retrieved February 9, 2017. ^ Rosenwaike, Ira (1972). Population History of New York City. Syracuse University Press. Table 30. ISBN 978-0-8156-2155-3. ^ Gates, Henry Louis Jr.; Higginbotham, Evelyn Brooks (2009). Harlem Renaissance Lives from the African American National Biography. Oxford University Press. p. 7. ISBN 978-0-19-538795-7. ^ Roche, Linda De (2015). The Jazz Age: A Historical Exploration of Literature: A Historical Exploration of Literature. ABC-CLIO. pp. 18–19. ISBN 978-1-61069-668-5. ^ \"New York Urbanized Area: Population & Density from 1800 (Provisional)\". Demographia. Retrieved July 8, 2009. ^ Allen, Oliver E. (1993). \"Chapter 9: The Decline\". The Tiger—The Rise and Fall of Tammany Hall. Addison-Wesley Publishing Company. ISBN 978-0-201-62463-2. ^ Burns, Ric (August 22, 2003). \"The Center of the World—New York: A Documentary Film (Transcript)\". PBS. Archived from the original on June 23, 2011. Retrieved September 1, 2008. ^ a b Goicichea, Julia (August 16, 2017). \"Why New York City Is a Major Destination for LGBT Travelers\". The Culture Trip. Retrieved February 2, 2019. ^ \"Workforce Diversity The Stonewall Inn, National Historic Landmark National Register Number: 99000562\". National Park Service. Retrieved May 1, 2011. ^ Rosenberg, Eli (June 24, 2016). \"Stonewall Inn Named National Monument, a First for the Gay Rights Movement\". The New York Times. Retrieved June 25, 2016. ^ Murphy, Timothy (2013). Reader\\'s Guide to Lesbian and Gay Studies. Routledge. p. 572. ISBN 978-1-135-94234-2. ^ \"Brief History of the Gay and Lesbian Rights Movement in the U.S.\" University of Kentucky. Archived from the original on November 18, 2019. Retrieved September 2, 2017. ^ Frizzell, Nell (June 28, 2013). \"Feature: How the Stonewall riots started the LGBT rights movement\". PinkNews. Retrieved August 31, 2017. ^ \"Stonewall riots\". Encyclopædia Britannica. Retrieved August 31, 2017. ^ \"Civil Rights at Stonewall National Monument\". National Park Service. June 2016. Retrieved August 31, 2017. ^ \"Obama inaugural speech references Stonewall gay-rights riots\". North Jersey Media Group. January 21, 2013. Archived from the original on May 30, 2013. Retrieved July 2, 2013. ^ a b Williams, Cristan (January 25, 2013). \"So, what was Stonewall?\". The TransAdvocate. Retrieved March 28, 2017. ^ Tannenbaum, Allan (February 2004). \"New York in the 70s: A Remembrance\". The Digital Journalist. Archived from the original on March 20, 2012. Retrieved December 18, 2011. ^ Roberts, Sam. \"Infamous \\'Drop Dead\\' Was Never Said by Ford\", The New York Times, December 28, 2006. Accessed February 20, 2024. \"Mr. Ford, on Oct. 29, 1975, gave a speech denying federal assistance to spare New York from bankruptcy. The front page of The Daily News the next day read: \"FORD TO CITY: DROP DEAD.\"... Moreover, the speech spurred New York\\'s civic, business and labor leaders to rally bankers in the United States and abroad, who feared their own investments would be harmed if New York defaulted on its debt.\" ^ Chan, Sewell. \"Felix G. Rohatyn, Financier Who Piloted New York’s Rescue, Dies at 91\", The New York Times, December 14, 2019. Accessed February 20, 2024. \"For nearly two decades, from 1975 to 1993, as chairman of the state-appointed Municipal Assistance Corporation, Mr. Rohatyn had a say, often the final one, over taxes and spending in the nation\\'s largest city, a degree of influence for an unelected official that rankled some critics. His efforts to meld private profit with the public good defined him: In the perception of many his name was synonymous with two institutions — the M.A.C., which was hastily created in 1975 to save the city from insolvency, and Lazard (formerly Lazard Frères), the storied investment firm that started as a dry-goods business in New Orleans in 1848.\" ^ Effgen, Christopher (September 11, 2001). \"New York Crime Rates 1960–2009\". Disastercenter.com. Retrieved October 28, 2010. ^ Population - Decennial Census - Census 2000, New York City Department of City Planning. Accessed January 27, 2024. \"According to the U.S. Census Bureau, the population of New York City as of April 1, 2000, was 8,008,278, the largest enumerated census population in the city\\'s history. The previous peak was in 1970, when the enumerated population stood at 7,894,862.\" ^ Population, New York City Department of City Planning. Accessed January 27, 2024. \"The enumerated population of New York City’s was 8,804,190 as of April 1, 2020, a record high population. This is an increase of 629,057 people since the 2010 Census.\" ^ Waller, Irvin (2013). Smarter Crime Control. Rowman & Littlefield. p. 38. ISBN 978-1-4422-2170-3. ^ \"THE YEAR 2000: THE OVERVIEW; 2000 Draws Rave Reviews After Opening Night Night Jitters\". The New York Times. January 6, 2000. Retrieved October 28, 2023. ^ Dieterle,'},\n",
       "   {'sentence': 'United States, with the highest numbers from the United Kingdom, Canada, Brazil, and China.[398] Multiple sources have called New York the most photographed city in the world.[399][400][401] I Love New York (stylized I ❤ NY) is both a logo and a song that are the basis of an advertising campaign and have been used since 1977 to promote tourism in New York City,[402] and later to promote New York State as well. The trademarked logo is owned by New York State Empire State Development.[403] Many districts and monuments in New York City are major landmarks, including three of the world\\'s ten-most-visited tourist attractions in 2023.[404] A record 66.6 million tourists visited New York City in 2019, bringing in $47.4 billion in tourism revenue. Visitor numbers dropped by two-thirds in 2020 during the pandemic, rebounding to 63.3 million in 2023.[398][405] Major landmarks in New York City include the Metropolitan Museum of Art, the Statue of Liberty, the Empire State Building, and Central Park.[406] Times Square is the brightly illuminated hub of the Broadway Theater District,[407] and a major center of the world\\'s entertainment industry.[408] that attracts 50 million visitors annually to one of the world\\'s busiest pedestrian intersections.[212] Media and entertainment Main article: Media in New York City Further information: New Yorkers in journalism Rockefeller Center, one of Manhattan\\'s leading media and entertainment hubs The headquarters of the New York Times Company, publisher of The New York Times New York City has been described as the entertainment[17][409][410] and digital media capital of the world.[411] It is a center for the advertising, music, newspaper, digital media, and publishing industries and is the largest media market in North America.[412] Many of the world\\'s largest media conglomerates are based in the city, including Warner Bros. Discovery, the Thomson Reuters Corporation, the Associated Press, Bloomberg L.P., the News Corp, The New York Times Company, NBCUniversal, the Hearst Corporation, AOL, Fox Corporation, and Paramount Global. Seven of the world\\'s top eight global advertising agency networks have their headquarters in New York.[413] More than 200 newspapers and 350 consumer magazines have an office in the city,[414] and the publishing industry employs about 11,500 people, with an economic impact of $9.2 billion.[415] The two national daily newspapers with the largest daily circulations in the United States are published in New York: the The Wall Street Journal and The New York Times broadsheets.[416] With 132 awards through 2022, The Times has won the most Pulitzer Prizes for journalism[417] and is considered the U.S. media\\'s newspaper of record.[418] Tabloid newspapers in the city include the New York Daily News, which was founded in 1919 by Joseph Medill Patterson,[419] and the New York Post, founded in 1801 by Alexander Hamilton.[420][421] As of 2019[update], New York City was the second-largest center for filmmaking and television production in the United States, producing about 200 feature films annually. The industry employed more than 100,000 people in 2019, generating $12.2 billion in wages and a total economic impact of $64.1 billion.[422] By volume, New York is the world leader in independent film production—one-third of all American independent films are produced there.[423][414] New York is a major center for non-commercial educational media. NYC Media is the official public radio, television, and online media network and broadcasting service of New York City,[424] and has produced several original Emmy Award-winning shows covering music and culture in city neighborhoods and city government. The oldest public-access television channel in the United States is the Manhattan Neighborhood Network, founded in 1971.[425] WNET is the city\\'s major public television station and produces a third of national Public Broadcasting Service (PBS) television programming.[426] WNYC, a public radio station owned by the city until 1997,[427] has the largest public radio audience in the United States.[428] Culture Main article: Culture of New York City Solomon R. Guggenheim Museum seen from Fifth Avenue New York City is frequently the setting for novels, movies, and television programs and has been described as the cultural capital of the world.[429][430][431][432] In describing New York, author Tom Wolfe said, \"Culture just seems to be in the air, like part of the weather.\"[433] The city is the birthplace of many cultural movements, including the Harlem Renaissance in literature and visual art;[434][435] abstract expressionism (known as the New York School) in painting; and hip-hop,[184][436] punk,[437] hardcore,[438] salsa, freestyle, Tin Pan Alley, certain forms of jazz,[439] and (along with Philadelphia) disco in music. New York City has been considered the dance capital of the world.[440][441] One of the most common traits attributed to New York City is its fast pace,[442][443][444] which spawned the term New York minute.[445] Journalist Walt Whitman characterized New York\\'s streets as being traversed by \"hurrying, feverish, electric crowds.\"[444] New York City\\'s residents are prominently known for their resilience historically, and more recently related to their management of the impacts of the September 11 terrorist attacks and the COVID-19 pandemic.[446][447][448] New York was voted the world\\'s most resilient city in 2021 and 2022, per Time Out\\'s global poll of urban residents.[447] Theater Further information: Broadway theatre and Theater District, Manhattan The Golden; Jacobs; Schoenfeld; and Booth theatres in Theater District The central hub of the American theater scene is Manhattan, with its divisions of Broadway, off-Broadway, and off-off-Broadway.[449] Many movie and television stars have gotten their big break working in New York productions.[450] Broadway theatre is one of the premier forms of English-language theatre in the world, named after Broadway, the major thoroughfare that crosses Times Square,[451] sometimes referred to as \"The Great White Way.\"[452][453][454] Forty-one venues mostly in Midtown Manhattan\\'s Theatre District, each with at least 500 seats, are classified as Broadway theatres.[455] The 2018–19 Broadway theatre season set records with total attendance of 14.8 million and gross revenue of $1.83 billion[456] Recovering from closures forced by the COVID-19 pandemic, 2022–23 revenues rebounded to $1.58 billion with total attendance of 12.3 million.[457][458] The Tony Awards recognizes excellence in live Broadway theatre and are presented at an annual ceremony in Manhattan. The awards are given for Broadway productions and performances'}]],\n",
       " 'embeddings': None,\n",
       " 'documents': [[None, None]],\n",
       " 'uris': None,\n",
       " 'data': None}"
      ]
     },
     "execution_count": 59,
     "metadata": {},
     "output_type": "execute_result"
    }
   ],
   "source": [
    "collection.query(\n",
    "    query_texts=[\"where is statue of liberty\"],\n",
    "    n_results=2\n",
    ")"
   ]
  },
  {
   "cell_type": "code",
   "execution_count": 62,
   "id": "ba7a27a4",
   "metadata": {},
   "outputs": [],
   "source": [
    "\n",
    "#congestion = tree.xpath(\"/html/body/div/div[2]/div[2]/div[2]/section[2]/div/div[2]/div/div[2]/div/div[2]/div[1]/div[1]/text()\")\n",
    "#print(congestion)\n",
    "#print(len(g_data))"
   ]
  },
  {
   "cell_type": "code",
   "execution_count": null,
   "id": "ea3b5bb8",
   "metadata": {
    "scrolled": true
   },
   "outputs": [],
   "source": []
  },
  {
   "cell_type": "code",
   "execution_count": 32,
   "id": "8215bd9e",
   "metadata": {
    "scrolled": false
   },
   "outputs": [],
   "source": []
  },
  {
   "cell_type": "code",
   "execution_count": null,
   "id": "5724495c",
   "metadata": {},
   "outputs": [],
   "source": []
  }
 ],
 "metadata": {
  "kernelspec": {
   "display_name": "Python 3 (ipykernel)",
   "language": "python",
   "name": "python3"
  },
  "language_info": {
   "codemirror_mode": {
    "name": "ipython",
    "version": 3
   },
   "file_extension": ".py",
   "mimetype": "text/x-python",
   "name": "python",
   "nbconvert_exporter": "python",
   "pygments_lexer": "ipython3",
   "version": "3.10.11"
  }
 },
 "nbformat": 4,
 "nbformat_minor": 5
}
