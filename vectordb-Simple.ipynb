{
 "cells": [
  {
   "cell_type": "code",
   "execution_count": 4,
   "id": "2bd6ab1f",
   "metadata": {},
   "outputs": [],
   "source": [
    "import chromadb\n",
    "from sentence_transformers import SentenceTransformer\n",
    "\n",
    "# Assuming libraries are installed:\n",
    "# pip install chromadb sentence-transformers\n",
    "# 1. Setup ChromaDB\n",
    "db = chromadb.Client()\n",
    "collection = db.create_collection(\"landmark\")\n",
    "\n",
    "#2. Hardcode Sentences\n",
    "sentences =  [\n",
    "    \"Big Ben in London\",\n",
    "    \"Tower Bridge in London\",\n",
    "    \"Buckingham Palace in London\",\n",
    "    \"The London Eye in London\",\n",
    "    \"The British Museum in London\",\n",
    "    \"The Shard in London\",\n",
    "    \"Trafalgar Square in London\",\n",
    "    \"The Natural History Museum in London\",\n",
    "    \"The Tate Modern in London\",\n",
    "    \"Statue of Liberty in New York\",\n",
    "    \"Times Square in New York\",\n",
    "    \"Central Park in New York\",\n",
    "    \"Empire State Building in New York\",\n",
    "    \"Brooklyn Bridge in New York\",\n",
    "    \"The Metropolitan Museum of Art in New York\",\n",
    "    \"One World Trade Center in New York\",\n",
    "    \"The Museum of Modern Art in New York\",\n",
    "    \"Broadway in New York\",\n",
    "    \"CN Tower in Toronto\",\n",
    "    \"Royal Ontario Museum in Toronto\",\n",
    "    \"Casa Loma in Toronto\",\n",
    "    \"Distillery District in Toronto\",\n",
    "    \"Toronto Islands in Toronto\",\n",
    "    \"Art Gallery of Ontario in Toronto\",\n",
    "    \"Ripley's Aquarium of Canada in Toronto\",\n",
    "    \"St. Lawrence Market in Toronto\",\n",
    "    \"High Park - Premier Urban Green Space in Toronto\"\n",
    "]\n",
    "\n",
    "# 3. Get Embeddings\n",
    "model = SentenceTransformer('all-MiniLM-L6-v2')\n",
    "embeddings = model.encode(sentences)\n",
    "\n",
    "# 4. Store in ChromaDB (Corrected)\n",
    "ids = [str(i) for i in range(len(sentences))]  # Generate IDs for each sentence\n",
    "metadatas = [{\"sentence\": sentence} for sentence in sentences]  # Metadata for each sentence\n",
    "collection.add(ids=ids, embeddings=embeddings, metadatas=metadatas)  # Correctly call the add method\n",
    "collection.query(\n",
    "    query_texts=[\"where is statue of liberty\"],\n",
    "    n_results=2\n",
    ")\n"
   ]
  },
  {
   "cell_type": "code",
   "execution_count": 5,
   "id": "7604bb7f",
   "metadata": {
    "scrolled": false
   },
   "outputs": [
    {
     "data": {
      "text/plain": [
       "{'ids': [['9', '12']],\n",
       " 'distances': [[0.4569576680660248, 1.3608025312423706]],\n",
       " 'metadatas': [[{'sentence': 'Statue of Liberty in New York'},\n",
       "   {'sentence': 'Empire State Building in New York'}]],\n",
       " 'embeddings': None,\n",
       " 'documents': [[None, None]],\n",
       " 'uris': None,\n",
       " 'data': None}"
      ]
     },
     "execution_count": 5,
     "metadata": {},
     "output_type": "execute_result"
    }
   ],
   "source": [
    "collection.query(\n",
    "    query_texts=[\"where is statue of liberty\"],\n",
    "    n_results=2\n",
    ")"
   ]
  },
  {
   "cell_type": "code",
   "execution_count": 62,
   "id": "ba7a27a4",
   "metadata": {},
   "outputs": [],
   "source": [
    "\n",
    "#congestion = tree.xpath(\"/html/body/div/div[2]/div[2]/div[2]/section[2]/div/div[2]/div/div[2]/div/div[2]/div[1]/div[1]/text()\")\n",
    "#print(congestion)\n",
    "#print(len(g_data))"
   ]
  },
  {
   "cell_type": "code",
   "execution_count": null,
   "id": "ea3b5bb8",
   "metadata": {
    "scrolled": true
   },
   "outputs": [],
   "source": []
  },
  {
   "cell_type": "code",
   "execution_count": 32,
   "id": "8215bd9e",
   "metadata": {
    "scrolled": false
   },
   "outputs": [],
   "source": []
  },
  {
   "cell_type": "code",
   "execution_count": null,
   "id": "5724495c",
   "metadata": {},
   "outputs": [],
   "source": []
  }
 ],
 "metadata": {
  "kernelspec": {
   "display_name": "Python 3 (ipykernel)",
   "language": "python",
   "name": "python3"
  },
  "language_info": {
   "codemirror_mode": {
    "name": "ipython",
    "version": 3
   },
   "file_extension": ".py",
   "mimetype": "text/x-python",
   "name": "python",
   "nbconvert_exporter": "python",
   "pygments_lexer": "ipython3",
   "version": "3.10.11"
  }
 },
 "nbformat": 4,
 "nbformat_minor": 5
}
